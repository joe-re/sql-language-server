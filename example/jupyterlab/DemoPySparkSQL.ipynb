{
 "cells": [
  {
   "cell_type": "code",
   "execution_count": null,
   "id": "e768621c-31e9-4ed3-8aab-434ad6d2cc9c",
   "metadata": {},
   "outputs": [],
   "source": [
    "import findspark\n",
    "findspark.init()\n",
    "import pyspark\n",
    "from pyspark.sql import SparkSession\n",
    "spark = SparkSession.builder.getOrCreate()"
   ]
  },
  {
   "cell_type": "markdown",
   "id": "559a0939-d5c3-4ac9-9418-354fd3842c51",
   "metadata": {},
   "source": [
    "### Load sparksql magic to execute SQL with spark"
   ]
  },
  {
   "cell_type": "code",
   "execution_count": 2,
   "id": "30640463-d5df-4588-aaf0-348434a3ccb0",
   "metadata": {},
   "outputs": [],
   "source": [
    "%load_ext sparksql"
   ]
  },
  {
   "cell_type": "code",
   "execution_count": 4,
   "id": "5ceede93-4274-4040-a6a1-239821c45b44",
   "metadata": {},
   "outputs": [
    {
     "data": {
      "text/html": [
       "<table><tr style=\"border-bottom: 1px solid\"></tr></table>"
      ],
      "text/plain": [
       "<IPython.core.display.HTML object>"
      ]
     },
     "execution_count": 4,
     "metadata": {},
     "output_type": "execute_result"
    }
   ],
   "source": [
    "%%sparksql\n",
    "CREATE TABLE student (\n",
    "    id INT, \n",
    "    name STRING,\n",
    "    `nestedwithspaces` STRUCT<`sub field`:STRUCT<`sub field2`:STRING>>,\n",
    "    age INT,\n",
    "    books ARRAY<STRUCT<`title`:STRING, `chapters`:ARRAY<STRUCT<`paragraph`:STRING>>>>,\n",
    "    struct_col STRUCT<`address`:STRUCT<`streetName`:STRING, `streetNumber`:BIGINT>>,\n",
    "    map_col MAP<STRING, MAP<STRING, STRUCT<`start`:BIGINT,`end`:BIGINT>>>\n",
    "\n",
    "    ) USING PARQUET"
   ]
  },
  {
   "cell_type": "markdown",
   "id": "240241b2-f0f9-4254-a2eb-944c24d0833d",
   "metadata": {},
   "source": [
    "### Compose and execute query using pyspark SQL"
   ]
  },
  {
   "cell_type": "code",
   "execution_count": null,
   "id": "e223a864-af3a-4b6f-bc24-acc2d464b4e5",
   "metadata": {
    "tags": []
   },
   "outputs": [],
   "source": [
    "%%sparksql\n",
    "\n",
    "SELECT\n",
    "    s.books['The_Odyssey'].chapters[3].paragraph as a,\n",
    "    s.nestedwithspaces.`sub field`.`sub field2`\n",
    "FROM\n",
    "    student AS s\n",
    "WHERE\n",
    "    array_contains(map_keys(s.books.chapters.paragraph), 'The_Odyssey') = TRUE"
   ]
  },
  {
   "cell_type": "code",
   "execution_count": 14,
   "id": "c0b3148c-b0e2-41de-aa87-22aae3e1b8df",
   "metadata": {},
   "outputs": [
    {
     "data": {
      "text/html": [
       "<table><tr style=\"border-bottom: 1px solid\"><td style=\"font-weight: bold\">title</td></tr></table>"
      ],
      "text/plain": [
       "<IPython.core.display.HTML object>"
      ]
     },
     "execution_count": 14,
     "metadata": {},
     "output_type": "execute_result"
    }
   ],
   "source": [
    "%%sparksql\n",
    "\n",
    "SELECT\n",
    "    s.books.title,\n",
    "    s.boo\n",
    "FROM\n",
    "    student AS s\n",
    "WHERE\n",
    "    array_contains(s.books.title, 'x')"
   ]
  },
  {
   "cell_type": "markdown",
   "id": "8e6878ad-78f6-4bd7-b2ab-47f13a06fcff",
   "metadata": {},
   "source": [
    "### Compose and syntax highlight SQL in python string"
   ]
  },
  {
   "cell_type": "code",
   "execution_count": 21,
   "id": "98c7a39f-8f4b-43c2-a0dc-39b70cdb0ec2",
   "metadata": {},
   "outputs": [
    {
     "name": "stdout",
     "output_type": "stream",
     "text": [
      "\n",
      "--start-sql-syntax\n",
      "SELECT\n",
      "    s.books.chapters[3].paragraph as a,\n",
      "    s.id\n",
      "FROM\n",
      "    student AS s\n",
      "WHERE\n",
      "    array_contains(s.books.title, 'The_Odyssey')\n",
      "--end-sql-syntax\n",
      "\n"
     ]
    }
   ],
   "source": [
    "sql_statement = '''\n",
    "--start-sql-syntax\n",
    "SELECT\n",
    "    s.books.chapters[3].paragraph as a,\n",
    "    s.id\n",
    "FROM\n",
    "    student AS s\n",
    "WHERE\n",
    "    array_contains(s.books.title, 'The_Odyssey')\n",
    "--end-sql-syntax\n",
    "'''\n",
    "\n",
    "print(sql_statement)"
   ]
  },
  {
   "cell_type": "code",
   "execution_count": 22,
   "id": "631252bc-3889-4822-a473-7ceaf6a679f4",
   "metadata": {},
   "outputs": [
    {
     "name": "stdout",
     "output_type": "stream",
     "text": [
      "+---+---+\n",
      "|  a| id|\n",
      "+---+---+\n",
      "+---+---+\n",
      "\n"
     ]
    }
   ],
   "source": [
    "spark.sql(sql_statement).show()"
   ]
  },
  {
   "cell_type": "code",
   "execution_count": null,
   "id": "7f34eb6f-7310-4649-9fcc-1a8a07719b3f",
   "metadata": {},
   "outputs": [],
   "source": []
  },
  {
   "cell_type": "code",
   "execution_count": null,
   "id": "d0c43370-8865-46b2-b551-486728c0687d",
   "metadata": {},
   "outputs": [],
   "source": [
    "%%sparksql\n",
    "SELECT \n",
    "    transform(array(1, 2, 3), x -> x + 1),\n",
    "FROM\n",
    "    stude"
   ]
  },
  {
   "cell_type": "code",
   "execution_count": null,
   "id": "3d33ef32-0809-4eaa-8989-d83b543326e1",
   "metadata": {},
   "outputs": [],
   "source": [
    "%%sparksql\n",
    "SELECT\n",
    "    transform(array(1, 2, 3), (x, i) -> x + i)\n",
    "FROM\n",
    "    student"
   ]
  },
  {
   "cell_type": "code",
   "execution_count": null,
   "id": "78762f5f-3260-4896-82a3-c5ad35d35a48",
   "metadata": {},
   "outputs": [],
   "source": [
    "%%sparksql\n",
    "SELECT * FROM person\n",
    "    PIVOT (\n",
    "        SUM(age) AS a, AVG(class) AS c\n",
    "        FOR (name, age) IN (('John', 30) AS c1, ('Mike', 40) AS c2)\n",
    "    );"
   ]
  },
  {
   "cell_type": "code",
   "execution_count": null,
   "id": "9c43cfc8-1341-4eba-bc85-83888012cfc6",
   "metadata": {},
   "outputs": [],
   "source": [
    "%%sparksql\n",
    "SELECT DATE('2020-01-01')"
   ]
  },
  {
   "cell_type": "code",
   "execution_count": null,
   "id": "9d6ed1f3-9046-4649-a581-1dc75c5ce94a",
   "metadata": {},
   "outputs": [],
   "source": [
    "%%sparksql\n",
    "SELECT\n",
    "CAST('12' AS INT),\n",
    "X'123456' AS col,\n",
    "NULL AS col,\n",
    "9223372036854775807L AS col"
   ]
  },
  {
   "cell_type": "code",
   "execution_count": null,
   "id": "5c165e5a-18b3-4e30-a84e-5d9860034cfd",
   "metadata": {},
   "outputs": [],
   "source": [
    "%%sparksql\n",
    "\n",
    "-- CTE with multiple column aliases\n",
    "WITH t(x, y) AS (SELECT 1, 2)\n",
    "SELECT * FROM t WHERE x = 1 AND y = 2"
   ]
  }
 ],
 "metadata": {
  "kernelspec": {
   "display_name": "Python 3 (ipykernel)",
   "language": "python",
   "name": "python3"
  },
  "language_info": {
   "codemirror_mode": {
    "name": "ipython",
    "version": 3
   },
   "file_extension": ".py",
   "mimetype": "text/x-python",
   "name": "python",
   "nbconvert_exporter": "python",
   "pygments_lexer": "ipython3",
   "version": "3.9.6"
  }
 },
 "nbformat": 4,
 "nbformat_minor": 5
}
