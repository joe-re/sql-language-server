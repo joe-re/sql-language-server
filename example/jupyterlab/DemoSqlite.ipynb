{
 "cells": [
  {
   "cell_type": "markdown",
   "id": "399fa0c0-d191-45a3-8689-3cccc583b5d5",
   "metadata": {},
   "source": [
    "### Load `%%sql` magic to execute queries using sqlAlchemy"
   ]
  },
  {
   "cell_type": "code",
   "execution_count": 2,
   "id": "e768621c-31e9-4ed3-8aab-434ad6d2cc9c",
   "metadata": {},
   "outputs": [],
   "source": [
    "%load_ext sql"
   ]
  },
  {
   "cell_type": "markdown",
   "id": "a36cd07e-3c82-4f00-9d83-af0c82fcf4e5",
   "metadata": {},
   "source": [
    "### Compose and execute query"
   ]
  },
  {
   "cell_type": "code",
   "execution_count": 5,
   "id": "5e0bf1cc-f781-4e9f-bba2-181a35c30262",
   "metadata": {},
   "outputs": [
    {
     "name": "stdout",
     "output_type": "stream",
     "text": [
      "Done.\n"
     ]
    },
    {
     "data": {
      "text/html": [
       "<table>\n",
       "    <tr>\n",
       "        <th>email</th>\n",
       "        <th>first_name</th>\n",
       "        <th>phone</th>\n",
       "    </tr>\n",
       "    <tr>\n",
       "        <td>alice@mail.com</td>\n",
       "        <td>Alice</td>\n",
       "        <td>111.2222</td>\n",
       "    </tr>\n",
       "    <tr>\n",
       "        <td>bob@mail.com</td>\n",
       "        <td>Bob</td>\n",
       "        <td>345.2356</td>\n",
       "    </tr>\n",
       "</table>"
      ],
      "text/plain": [
       "[('alice@mail.com', 'Alice', '111.2222'), ('bob@mail.com', 'Bob', '345.2356')]"
      ]
     },
     "execution_count": 5,
     "metadata": {},
     "output_type": "execute_result"
    }
   ],
   "source": [
    "%%sql sqlite:////tmp/demodb.sqlite\n",
    "/*\n",
    " Use ipython-sql magic to execute query against sqlite database\n",
    "*/\n",
    "SELECT\n",
    "    c.email,\n",
    "    c.first_name,\n",
    "    c.phone\n",
    "FROM\n",
    "    contacts AS c"
   ]
  },
  {
   "cell_type": "code",
   "execution_count": null,
   "id": "83c94ee2-88d0-4f85-8291-8a7bb1869631",
   "metadata": {},
   "outputs": [],
   "source": []
  }
 ],
 "metadata": {
  "kernelspec": {
   "display_name": "Python 3 (ipykernel)",
   "language": "python",
   "name": "python3"
  },
  "language_info": {
   "codemirror_mode": {
    "name": "ipython",
    "version": 3
   },
   "file_extension": ".py",
   "mimetype": "text/x-python",
   "name": "python",
   "nbconvert_exporter": "python",
   "pygments_lexer": "ipython3",
   "version": "3.9.6"
  }
 },
 "nbformat": 4,
 "nbformat_minor": 5
}
